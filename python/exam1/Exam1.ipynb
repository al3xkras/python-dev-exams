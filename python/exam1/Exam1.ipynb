{
 "cells": [
  {
   "cell_type": "code",
   "execution_count": 1,
   "id": "11cdab40",
   "metadata": {},
   "outputs": [
    {
     "name": "stdout",
     "output_type": "stream",
     "text": [
      "\n"
     ]
    }
   ],
   "source": [
    "\"\"\"\n",
    "Vimmi Exam\n",
    "Hello and welcome to Vimmi.\n",
    "\n",
    "Please answer the questions below.\n",
    "\n",
    "For each question provide a clear answer and the actual code that you made to address the question.\n",
    "\n",
    "Please send your answers in a reply, not later than 3 hours after you received this email. \n",
    "You can skip some questions in order to make it on time.\n",
    "\n",
    "The exam is to evaluate your knowledge and experience in order to match it with Vimmi’s needs.\n",
    "\n",
    "A. Personal information\n",
    "What is your full name?\n",
    "\n",
    "What is your contact information?\n",
    "\n",
    "What is your python development level? Junior, Mid or Senior?\n",
    "\n",
    "How many years do you already have in python development? How many as professional (In a company) How many as a student or as a hobby?\n",
    "\n",
    "How many years do you already have as a backend developer? How many as professional (In a company) How many as a student or as a hobby?   \n",
    "\n",
    "Yeah, no coding here. Yet.\n",
    "\n",
    " B. Programing\n",
    "Please provide a clear answer and the relevant code for each question.\n",
    "\n",
    "Between 28 to 117, how many numbers include the digit 7?\n",
    "\n",
    "What is the average number of the group of numbers from the question above?\n",
    "\n",
    "What is the sum of squares of that group?\n",
    "\n",
    "Provide a general function to resolve Q1. Where the inputs are the minimum and the maximum number in the range and the last parameter is the digit. For example, func(28, 117, 7) will return the answer for Q1. Provide the answer for func(98, 207, 0)\n",
    "\n",
    "As in Q4, but with lambada. And an answer for lam(111, 1011, 11)\n",
    "\n",
    "C. Data management\n",
    "Please provide a clear answer and the relevant code for each question.\n",
    "\n",
    "The attached json file has a list of the top-250 movies in imdb.com. What is the average imdb-rating of the top-10 movies?\n",
    "\n",
    "At about what time the top-50 movies were published?\n",
    "\n",
    "Provide a table with average rating and \"average\" publication time for each 10 movies from the top-10 to end of the list. For each row, provide the title of the best movie.\n",
    "\n",
    "Such data should be saved in a common database. How will you do that? Provide an example (pseudo) code.\n",
    "\n",
    "Provide a query examples to find the average rating\n",
    "\n",
    "Provide a script to upload this data into your suggested DB. \n",
    "\n",
    "The movies list is coming from IMBD: API for IMDb, TMDb, Wikipedia and more - IMDb-API . \n",
    "How will you update the DB with the current top-250 list?\n",
    "You can use this apikey: k_fjjgi8pt \n",
    "Note that you can use it only during the exam time. Please do not use it elsewhere.\n",
    "\n",
    "Using the imdb-api, how you'll enrich the movie data with Actors and Genres?\n",
    "\n",
    "Once your data is enriched with Actors, write a query on your data, to find the top-10 actors on your data.\n",
    "\"\"\"\n",
    "print()"
   ]
  },
  {
   "cell_type": "code",
   "execution_count": 2,
   "id": "58f0d787",
   "metadata": {},
   "outputs": [
    {
     "name": "stdout",
     "output_type": "stream",
     "text": [
      "18\n"
     ]
    }
   ],
   "source": [
    "#Between 28 to 117, how many numbers include the digit 7\n",
    "def includes_decimal(num,decimal=7):\n",
    "    while num>0:\n",
    "        if num%10==decimal:\n",
    "            return 1\n",
    "        num//=10\n",
    "    return 0\n",
    "\n",
    "a=28\n",
    "b=117\n",
    "print(sum(includes_decimal(x) for x in range(a,b+1)))"
   ]
  },
  {
   "cell_type": "code",
   "execution_count": 3,
   "id": "ad7a5ccf",
   "metadata": {},
   "outputs": [
    {
     "name": "stdout",
     "output_type": "stream",
     "text": [
      "18\n"
     ]
    }
   ],
   "source": [
    "#re-check\n",
    "print(sum(1 if \"7\" in str(x) else 0 for x in range(a,b+1)))"
   ]
  },
  {
   "cell_type": "code",
   "execution_count": 4,
   "id": "8e2aa29f",
   "metadata": {},
   "outputs": [
    {
     "name": "stdout",
     "output_type": "stream",
     "text": [
      "75.61111111111111\n"
     ]
    }
   ],
   "source": [
    "#What is the average number of the group of numbers from the question above?\n",
    "import numpy as np\n",
    "\n",
    "arr=np.array([x for x in range(a,b+1) if includes_decimal(x)],dtype=int)\n",
    "print(arr.mean())"
   ]
  },
  {
   "cell_type": "code",
   "execution_count": 5,
   "id": "a6fa32a3",
   "metadata": {},
   "outputs": [
    {
     "name": "stdout",
     "output_type": "stream",
     "text": [
      "109017\n"
     ]
    }
   ],
   "source": [
    "#What is the sum of squares of that group?\n",
    "print(sum(pow(x,2) for x in arr))"
   ]
  },
  {
   "cell_type": "code",
   "execution_count": 6,
   "id": "68911fbe",
   "metadata": {},
   "outputs": [],
   "source": [
    "def func(a,b,decimal):\n",
    "    assert decimal>=0 and decimal<10\n",
    "    assert a<=b\n",
    "    return sum(includes_decimal(x,decimal) for x in range(a,b+1))"
   ]
  },
  {
   "cell_type": "code",
   "execution_count": 7,
   "id": "7b92547e",
   "metadata": {},
   "outputs": [
    {
     "data": {
      "text/plain": [
       "27"
      ]
     },
     "execution_count": 7,
     "metadata": {},
     "output_type": "execute_result"
    }
   ],
   "source": [
    "func(98, 207, 0)"
   ]
  },
  {
   "cell_type": "code",
   "execution_count": 8,
   "id": "23e1b600",
   "metadata": {},
   "outputs": [
    {
     "name": "stdout",
     "output_type": "stream",
     "text": [
      "27\n"
     ]
    }
   ],
   "source": [
    "#re-check\n",
    "print(sum(1 if \"0\" in str(x) else 0 for x in range(98,208)))"
   ]
  },
  {
   "cell_type": "code",
   "execution_count": 9,
   "id": "63347260",
   "metadata": {},
   "outputs": [],
   "source": [
    "from math import floor,log\n",
    "def lam(a,b,number):\n",
    "    n = floor(log(number))\n",
    "    mod = pow(10,n)\n",
    "    def _lam_n(n,mod,num):\n",
    "        while n>0:\n",
    "            if n%mod == num:\n",
    "                return 1\n",
    "            n//=10\n",
    "        return 0\n",
    "    \n",
    "    count=0\n",
    "    for i in range(a,b+1):\n",
    "        l = _lam_n(i,mod,number)\n",
    "        if l: \n",
    "            count+=1 \n",
    "    return count\n",
    "        "
   ]
  },
  {
   "cell_type": "code",
   "execution_count": 10,
   "id": "154ef6d8",
   "metadata": {},
   "outputs": [
    {
     "data": {
      "text/plain": [
       "18"
      ]
     },
     "execution_count": 10,
     "metadata": {},
     "output_type": "execute_result"
    }
   ],
   "source": [
    "lam(111, 1011, 11)"
   ]
  },
  {
   "cell_type": "code",
   "execution_count": 11,
   "id": "fb88df62",
   "metadata": {},
   "outputs": [
    {
     "name": "stdout",
     "output_type": "stream",
     "text": [
      "18\n"
     ]
    }
   ],
   "source": [
    "#re-check\n",
    "print(sum(1 if \"11\" in str(x) else 0 for x in range(111,1012)))"
   ]
  },
  {
   "cell_type": "markdown",
   "id": "66049aa9",
   "metadata": {},
   "source": [
    "C. Data management Please provide a clear answer and the relevant code for each question.\n",
    "- The attached json file has a list of the top-250 movies in imdb.com. What is the average imdb-rating of the top-10 movies?\n",
    "- At about what time the top-50 movies were published?\n",
    "- Provide a table with average rating and \"average\" publication time for each 10 movies from the top-10 to end of the list. For each row, provide the title of the best movie.\n",
    "- Such data should be saved in a common database. How will you do that? Provide an example (pseudo) code.\n",
    "- Provide a query examples to find the average rating\n",
    "- Provide a script to upload this data into your suggested DB."
   ]
  },
  {
   "cell_type": "code",
   "execution_count": 12,
   "id": "1dac4e13",
   "metadata": {},
   "outputs": [],
   "source": [
    "import pandas as pd\n",
    "import json"
   ]
  },
  {
   "cell_type": "code",
   "execution_count": 13,
   "id": "b99023e5",
   "metadata": {},
   "outputs": [
    {
     "data": {
      "text/html": [
       "<div>\n",
       "<style scoped>\n",
       "    .dataframe tbody tr th:only-of-type {\n",
       "        vertical-align: middle;\n",
       "    }\n",
       "\n",
       "    .dataframe tbody tr th {\n",
       "        vertical-align: top;\n",
       "    }\n",
       "\n",
       "    .dataframe thead th {\n",
       "        text-align: right;\n",
       "    }\n",
       "</style>\n",
       "<table border=\"1\" class=\"dataframe\">\n",
       "  <thead>\n",
       "    <tr style=\"text-align: right;\">\n",
       "      <th></th>\n",
       "      <th>id</th>\n",
       "      <th>rank</th>\n",
       "      <th>title</th>\n",
       "      <th>fullTitle</th>\n",
       "      <th>year</th>\n",
       "      <th>image</th>\n",
       "      <th>crew</th>\n",
       "      <th>imDbRating</th>\n",
       "      <th>imDbRatingCount</th>\n",
       "    </tr>\n",
       "  </thead>\n",
       "  <tbody>\n",
       "    <tr>\n",
       "      <th>0</th>\n",
       "      <td>tt0111161</td>\n",
       "      <td>1</td>\n",
       "      <td>The Shawshank Redemption</td>\n",
       "      <td>The Shawshank Redemption (1994)</td>\n",
       "      <td>1994</td>\n",
       "      <td>https://imdb-api.com/images/original/MV5BMDFkY...</td>\n",
       "      <td>Frank Darabont (dir.), Tim Robbins, Morgan Fre...</td>\n",
       "      <td>9.2</td>\n",
       "      <td>2599768</td>\n",
       "    </tr>\n",
       "    <tr>\n",
       "      <th>1</th>\n",
       "      <td>tt0068646</td>\n",
       "      <td>2</td>\n",
       "      <td>The Godfather</td>\n",
       "      <td>The Godfather (1972)</td>\n",
       "      <td>1972</td>\n",
       "      <td>https://imdb-api.com/images/original/MV5BM2MyN...</td>\n",
       "      <td>Francis Ford Coppola (dir.), Marlon Brando, Al...</td>\n",
       "      <td>9.2</td>\n",
       "      <td>1795226</td>\n",
       "    </tr>\n",
       "    <tr>\n",
       "      <th>2</th>\n",
       "      <td>tt0468569</td>\n",
       "      <td>3</td>\n",
       "      <td>The Dark Knight</td>\n",
       "      <td>The Dark Knight (2008)</td>\n",
       "      <td>2008</td>\n",
       "      <td>https://imdb-api.com/images/original/MV5BMTMxN...</td>\n",
       "      <td>Christopher Nolan (dir.), Christian Bale, Heat...</td>\n",
       "      <td>9.0</td>\n",
       "      <td>2571118</td>\n",
       "    </tr>\n",
       "    <tr>\n",
       "      <th>3</th>\n",
       "      <td>tt0071562</td>\n",
       "      <td>4</td>\n",
       "      <td>The Godfather Part II</td>\n",
       "      <td>The Godfather Part II (1974)</td>\n",
       "      <td>1974</td>\n",
       "      <td>https://imdb-api.com/images/original/MV5BMWMwM...</td>\n",
       "      <td>Francis Ford Coppola (dir.), Al Pacino, Robert...</td>\n",
       "      <td>9.0</td>\n",
       "      <td>1237169</td>\n",
       "    </tr>\n",
       "    <tr>\n",
       "      <th>4</th>\n",
       "      <td>tt0050083</td>\n",
       "      <td>5</td>\n",
       "      <td>12 Angry Men</td>\n",
       "      <td>12 Angry Men (1957)</td>\n",
       "      <td>1957</td>\n",
       "      <td>https://imdb-api.com/images/original/MV5BMWU4N...</td>\n",
       "      <td>Sidney Lumet (dir.), Henry Fonda, Lee J. Cobb</td>\n",
       "      <td>8.9</td>\n",
       "      <td>768136</td>\n",
       "    </tr>\n",
       "  </tbody>\n",
       "</table>\n",
       "</div>"
      ],
      "text/plain": [
       "          id rank                     title                        fullTitle  \\\n",
       "0  tt0111161    1  The Shawshank Redemption  The Shawshank Redemption (1994)   \n",
       "1  tt0068646    2             The Godfather             The Godfather (1972)   \n",
       "2  tt0468569    3           The Dark Knight           The Dark Knight (2008)   \n",
       "3  tt0071562    4     The Godfather Part II     The Godfather Part II (1974)   \n",
       "4  tt0050083    5              12 Angry Men              12 Angry Men (1957)   \n",
       "\n",
       "   year                                              image  \\\n",
       "0  1994  https://imdb-api.com/images/original/MV5BMDFkY...   \n",
       "1  1972  https://imdb-api.com/images/original/MV5BM2MyN...   \n",
       "2  2008  https://imdb-api.com/images/original/MV5BMTMxN...   \n",
       "3  1974  https://imdb-api.com/images/original/MV5BMWMwM...   \n",
       "4  1957  https://imdb-api.com/images/original/MV5BMWU4N...   \n",
       "\n",
       "                                                crew imDbRating  \\\n",
       "0  Frank Darabont (dir.), Tim Robbins, Morgan Fre...        9.2   \n",
       "1  Francis Ford Coppola (dir.), Marlon Brando, Al...        9.2   \n",
       "2  Christopher Nolan (dir.), Christian Bale, Heat...        9.0   \n",
       "3  Francis Ford Coppola (dir.), Al Pacino, Robert...        9.0   \n",
       "4      Sidney Lumet (dir.), Henry Fonda, Lee J. Cobb        8.9   \n",
       "\n",
       "  imDbRatingCount  \n",
       "0         2599768  \n",
       "1         1795226  \n",
       "2         2571118  \n",
       "3         1237169  \n",
       "4          768136  "
      ]
     },
     "execution_count": 13,
     "metadata": {},
     "output_type": "execute_result"
    }
   ],
   "source": [
    "data_dir=\"../../test-data/exam1/data.json\"\n",
    "\n",
    "with open(data_dir) as datafile:\n",
    "    data = json.load(datafile)\n",
    "df = pd.DataFrame(data[\"items\"])\n",
    "df.head()"
   ]
  },
  {
   "cell_type": "code",
   "execution_count": 14,
   "id": "fe10d957",
   "metadata": {},
   "outputs": [],
   "source": [
    "df['rank']=df['rank'].apply(int)\n",
    "df['imDbRating']=df['imDbRating'].apply(float)"
   ]
  },
  {
   "cell_type": "code",
   "execution_count": 15,
   "id": "a96aca27",
   "metadata": {},
   "outputs": [
    {
     "data": {
      "text/plain": [
       "8.959999999999999"
      ]
     },
     "execution_count": 15,
     "metadata": {},
     "output_type": "execute_result"
    }
   ],
   "source": [
    "# What is the average imdb-rating of the top-10 movies?\n",
    "top=10\n",
    "df.loc[df['rank']<=top]['imDbRating'].mean()"
   ]
  },
  {
   "cell_type": "code",
   "execution_count": 16,
   "id": "e614af14",
   "metadata": {},
   "outputs": [],
   "source": [
    "df['year']=df['year'].apply(int)"
   ]
  },
  {
   "cell_type": "code",
   "execution_count": 17,
   "id": "d3f220c8",
   "metadata": {},
   "outputs": [
    {
     "data": {
      "text/plain": [
       "1994.0"
      ]
     },
     "execution_count": 17,
     "metadata": {},
     "output_type": "execute_result"
    }
   ],
   "source": [
    "#At about what time the top-50 movies were published?\n",
    "top=50\n",
    "df.loc[df['rank']<=top]['year'].median()"
   ]
  },
  {
   "cell_type": "code",
   "execution_count": 18,
   "id": "fc0927ac",
   "metadata": {},
   "outputs": [
    {
     "data": {
      "text/plain": [
       "1994"
      ]
     },
     "execution_count": 18,
     "metadata": {},
     "output_type": "execute_result"
    }
   ],
   "source": [
    "#re-check\n",
    "lst=sorted(df.loc[df['rank']<=top]['year'])\n",
    "lst[len(lst)//2]"
   ]
  },
  {
   "cell_type": "code",
   "execution_count": 19,
   "id": "464163f8",
   "metadata": {},
   "outputs": [],
   "source": [
    "\"\"\"\n",
    "Provide a table with average rating and \n",
    "\"average\" publication time \n",
    "for each 10 movies from the top-10 to end of the list. \n",
    "\n",
    "For each row, provide the title of the best movie.\n",
    "\"\"\"\n",
    "\n",
    "group=10\n",
    "from collections import deque\n",
    "\n",
    "def query(df:pd.DataFrame):\n",
    "    global group\n",
    "    sorted_df=df.sort_values(by=\"rank\")\n",
    "    table={\n",
    "        \"rank_from\":deque(),\n",
    "        \"rank_to\":deque(),\n",
    "        \"avg_imDbRating\":deque(),\n",
    "        \"'avg' year\":deque(),\n",
    "        \"best_film_title\":deque()\n",
    "    }\n",
    "    for i in range(0,df.shape[0],group):\n",
    "        subdf = sorted_df.iloc[i:i+group]\n",
    "        sub_avg = subdf['imDbRating'].mean()\n",
    "        sub_year_med = subdf['year'].median()\n",
    "        max_rating=subdf['imDbRating'].max()\n",
    "        best_movie_title=subdf.loc[subdf['imDbRating']==max_rating]['title'].iloc[0]\n",
    "        table['rank_from'].append(i+1)\n",
    "        table['rank_to'].append(i+group)\n",
    "        table['avg_imDbRating'].append(sub_avg)\n",
    "        table[\"'avg' year\"].append(sub_year_med)\n",
    "        table['best_film_title'].append(best_movie_title)\n",
    "    return pd.DataFrame(table)"
   ]
  },
  {
   "cell_type": "code",
   "execution_count": 20,
   "id": "a91cfd04",
   "metadata": {},
   "outputs": [
    {
     "data": {
      "text/html": [
       "<div>\n",
       "<style scoped>\n",
       "    .dataframe tbody tr th:only-of-type {\n",
       "        vertical-align: middle;\n",
       "    }\n",
       "\n",
       "    .dataframe tbody tr th {\n",
       "        vertical-align: top;\n",
       "    }\n",
       "\n",
       "    .dataframe thead th {\n",
       "        text-align: right;\n",
       "    }\n",
       "</style>\n",
       "<table border=\"1\" class=\"dataframe\">\n",
       "  <thead>\n",
       "    <tr style=\"text-align: right;\">\n",
       "      <th></th>\n",
       "      <th>id</th>\n",
       "      <th>rank</th>\n",
       "      <th>title</th>\n",
       "      <th>fullTitle</th>\n",
       "      <th>year</th>\n",
       "      <th>image</th>\n",
       "      <th>crew</th>\n",
       "      <th>imDbRating</th>\n",
       "      <th>imDbRatingCount</th>\n",
       "    </tr>\n",
       "  </thead>\n",
       "  <tbody>\n",
       "    <tr>\n",
       "      <th>0</th>\n",
       "      <td>tt0111161</td>\n",
       "      <td>1</td>\n",
       "      <td>The Shawshank Redemption</td>\n",
       "      <td>The Shawshank Redemption (1994)</td>\n",
       "      <td>1994</td>\n",
       "      <td>https://imdb-api.com/images/original/MV5BMDFkY...</td>\n",
       "      <td>Frank Darabont (dir.), Tim Robbins, Morgan Fre...</td>\n",
       "      <td>9.2</td>\n",
       "      <td>2599768</td>\n",
       "    </tr>\n",
       "    <tr>\n",
       "      <th>1</th>\n",
       "      <td>tt0068646</td>\n",
       "      <td>2</td>\n",
       "      <td>The Godfather</td>\n",
       "      <td>The Godfather (1972)</td>\n",
       "      <td>1972</td>\n",
       "      <td>https://imdb-api.com/images/original/MV5BM2MyN...</td>\n",
       "      <td>Francis Ford Coppola (dir.), Marlon Brando, Al...</td>\n",
       "      <td>9.2</td>\n",
       "      <td>1795226</td>\n",
       "    </tr>\n",
       "    <tr>\n",
       "      <th>2</th>\n",
       "      <td>tt0468569</td>\n",
       "      <td>3</td>\n",
       "      <td>The Dark Knight</td>\n",
       "      <td>The Dark Knight (2008)</td>\n",
       "      <td>2008</td>\n",
       "      <td>https://imdb-api.com/images/original/MV5BMTMxN...</td>\n",
       "      <td>Christopher Nolan (dir.), Christian Bale, Heat...</td>\n",
       "      <td>9.0</td>\n",
       "      <td>2571118</td>\n",
       "    </tr>\n",
       "    <tr>\n",
       "      <th>3</th>\n",
       "      <td>tt0071562</td>\n",
       "      <td>4</td>\n",
       "      <td>The Godfather Part II</td>\n",
       "      <td>The Godfather Part II (1974)</td>\n",
       "      <td>1974</td>\n",
       "      <td>https://imdb-api.com/images/original/MV5BMWMwM...</td>\n",
       "      <td>Francis Ford Coppola (dir.), Al Pacino, Robert...</td>\n",
       "      <td>9.0</td>\n",
       "      <td>1237169</td>\n",
       "    </tr>\n",
       "  </tbody>\n",
       "</table>\n",
       "</div>"
      ],
      "text/plain": [
       "          id  rank                     title                        fullTitle  \\\n",
       "0  tt0111161     1  The Shawshank Redemption  The Shawshank Redemption (1994)   \n",
       "1  tt0068646     2             The Godfather             The Godfather (1972)   \n",
       "2  tt0468569     3           The Dark Knight           The Dark Knight (2008)   \n",
       "3  tt0071562     4     The Godfather Part II     The Godfather Part II (1974)   \n",
       "\n",
       "   year                                              image  \\\n",
       "0  1994  https://imdb-api.com/images/original/MV5BMDFkY...   \n",
       "1  1972  https://imdb-api.com/images/original/MV5BM2MyN...   \n",
       "2  2008  https://imdb-api.com/images/original/MV5BMTMxN...   \n",
       "3  1974  https://imdb-api.com/images/original/MV5BMWMwM...   \n",
       "\n",
       "                                                crew  imDbRating  \\\n",
       "0  Frank Darabont (dir.), Tim Robbins, Morgan Fre...         9.2   \n",
       "1  Francis Ford Coppola (dir.), Marlon Brando, Al...         9.2   \n",
       "2  Christopher Nolan (dir.), Christian Bale, Heat...         9.0   \n",
       "3  Francis Ford Coppola (dir.), Al Pacino, Robert...         9.0   \n",
       "\n",
       "  imDbRatingCount  \n",
       "0         2599768  \n",
       "1         1795226  \n",
       "2         2571118  \n",
       "3         1237169  "
      ]
     },
     "execution_count": 20,
     "metadata": {},
     "output_type": "execute_result"
    }
   ],
   "source": [
    "df.iloc[0:4]"
   ]
  },
  {
   "cell_type": "code",
   "execution_count": 21,
   "id": "eb7ce53e",
   "metadata": {},
   "outputs": [
    {
     "data": {
      "text/html": [
       "<div>\n",
       "<style scoped>\n",
       "    .dataframe tbody tr th:only-of-type {\n",
       "        vertical-align: middle;\n",
       "    }\n",
       "\n",
       "    .dataframe tbody tr th {\n",
       "        vertical-align: top;\n",
       "    }\n",
       "\n",
       "    .dataframe thead th {\n",
       "        text-align: right;\n",
       "    }\n",
       "</style>\n",
       "<table border=\"1\" class=\"dataframe\">\n",
       "  <thead>\n",
       "    <tr style=\"text-align: right;\">\n",
       "      <th></th>\n",
       "      <th>rank_from</th>\n",
       "      <th>rank_to</th>\n",
       "      <th>avg_imDbRating</th>\n",
       "      <th>'avg' year</th>\n",
       "      <th>best_film_title</th>\n",
       "    </tr>\n",
       "  </thead>\n",
       "  <tbody>\n",
       "    <tr>\n",
       "      <th>0</th>\n",
       "      <td>1</td>\n",
       "      <td>10</td>\n",
       "      <td>8.96</td>\n",
       "      <td>1993.5</td>\n",
       "      <td>The Shawshank Redemption</td>\n",
       "    </tr>\n",
       "    <tr>\n",
       "      <th>1</th>\n",
       "      <td>11</td>\n",
       "      <td>20</td>\n",
       "      <td>8.68</td>\n",
       "      <td>1994.5</td>\n",
       "      <td>Forrest Gump</td>\n",
       "    </tr>\n",
       "    <tr>\n",
       "      <th>2</th>\n",
       "      <td>21</td>\n",
       "      <td>30</td>\n",
       "      <td>8.58</td>\n",
       "      <td>1994.0</td>\n",
       "      <td>It's a Wonderful Life</td>\n",
       "    </tr>\n",
       "    <tr>\n",
       "      <th>3</th>\n",
       "      <td>31</td>\n",
       "      <td>40</td>\n",
       "      <td>8.50</td>\n",
       "      <td>1999.0</td>\n",
       "      <td>Spirited Away</td>\n",
       "    </tr>\n",
       "    <tr>\n",
       "      <th>4</th>\n",
       "      <td>41</td>\n",
       "      <td>50</td>\n",
       "      <td>8.45</td>\n",
       "      <td>1978.0</td>\n",
       "      <td>The Prestige</td>\n",
       "    </tr>\n",
       "  </tbody>\n",
       "</table>\n",
       "</div>"
      ],
      "text/plain": [
       "   rank_from  rank_to  avg_imDbRating  'avg' year           best_film_title\n",
       "0          1       10            8.96      1993.5  The Shawshank Redemption\n",
       "1         11       20            8.68      1994.5              Forrest Gump\n",
       "2         21       30            8.58      1994.0     It's a Wonderful Life\n",
       "3         31       40            8.50      1999.0             Spirited Away\n",
       "4         41       50            8.45      1978.0              The Prestige"
      ]
     },
     "execution_count": 21,
     "metadata": {},
     "output_type": "execute_result"
    }
   ],
   "source": [
    "film_ratings=query(df)\n",
    "film_ratings.head()"
   ]
  },
  {
   "cell_type": "code",
   "execution_count": 22,
   "id": "dd1525e0",
   "metadata": {},
   "outputs": [
    {
     "name": "stdout",
     "output_type": "stream",
     "text": [
      "\n"
     ]
    }
   ],
   "source": [
    "#Such data should be saved in a common database. How will you do that? Provide an example (pseudo) code.\n",
    "\"\"\"\n",
    "create table film_ratings (\n",
    "id int primary key,\n",
    "rank_from number\n",
    "rank_to number\n",
    "avg_imDbRating double\n",
    "avg_year float\n",
    "best_film_title nvarchar(64)\n",
    ")\n",
    "create unique constraint (rank_from,rank_to)\n",
    "\n",
    "create transaction\n",
    "insert rows\n",
    "commit transaction\n",
    "\"\"\"\n",
    "print()"
   ]
  },
  {
   "cell_type": "code",
   "execution_count": 23,
   "id": "7a7d7bf8",
   "metadata": {},
   "outputs": [],
   "source": [
    "\n",
    "import mysql.connector\n",
    "username='root'\n",
    "password='root'"
   ]
  },
  {
   "cell_type": "code",
   "execution_count": 24,
   "id": "85ea6245",
   "metadata": {},
   "outputs": [
    {
     "name": "stdout",
     "output_type": "stream",
     "text": [
      "<mysql.connector.connection_cext.CMySQLConnection object at 0x000002187AA7E1D0>\n"
     ]
    },
    {
     "data": {
      "text/plain": [
       "{'warning_count': 0,\n",
       " 'field_count': 0,\n",
       " 'insert_id': 0,\n",
       " 'affected_rows': 1,\n",
       " 'server_status': 264}"
      ]
     },
     "execution_count": 24,
     "metadata": {},
     "output_type": "execute_result"
    }
   ],
   "source": [
    "#Provide a script to upload this data into your suggested DB.\n",
    "mydb = mysql.connector.connect(\n",
    "  host=\"localhost\",\n",
    "  user=username,\n",
    "  password=password\n",
    ")\n",
    "print(mydb)\n",
    "mydb.cmd_query(\"\"\"\n",
    "drop database if exists films_db;\n",
    "create database films_db;\n",
    "create table films_db.film_ratings (\n",
    "id int primary key,\n",
    "rank_from int(4),\n",
    "rank_to int(4),\n",
    "avg_imDbRating double,\n",
    "avg_year double,\n",
    "best_film_title nvarchar(64)\n",
    ")\"\"\")"
   ]
  },
  {
   "cell_type": "code",
   "execution_count": 25,
   "id": "d6bd7948",
   "metadata": {},
   "outputs": [],
   "source": [
    "mydb = mysql.connector.connect(\n",
    "  host=\"localhost\",\n",
    "  user=username,\n",
    "  password=password\n",
    ")\n",
    "query_insert=\"\"\"insert into films_db.film_ratings values(%s,%s,%s,%s,%s,%s)\"\"\"\n",
    "def conv(args):\n",
    "    for x in range(len(args)):\n",
    "        if isinstance(args[x],np.int64):\n",
    "            args[x]=int(args[x])\n",
    "    return args\n",
    "            \n",
    "insert_many_gen = list(conv([x,*film_ratings.iloc[x]]) for x in range(film_ratings.shape[0]))\n",
    "dbc = mydb.cursor(buffered=True)\n",
    "\n",
    "dbc.executemany(query_insert,insert_many_gen)\n",
    "dbc.close()\n",
    "mydb.commit()"
   ]
  },
  {
   "cell_type": "code",
   "execution_count": 26,
   "id": "35547b7f",
   "metadata": {},
   "outputs": [
    {
     "name": "stdout",
     "output_type": "stream",
     "text": [
      "8.254399999999999\n"
     ]
    }
   ],
   "source": [
    "#Provide a query examples to find the average rating\n",
    "mydb = mysql.connector.connect(\n",
    "  host=\"localhost\",\n",
    "  user=username,\n",
    "  password=password\n",
    ")\n",
    "\n",
    "conn=mydb.cursor()\n",
    "\n",
    "conn.execute(\"\"\"\n",
    "SELECT avg(avg_imDbRating) FROM films_db.film_ratings\n",
    "\"\"\".strip())\n",
    "abg_imdb = conn.fetchall()[0][0]\n",
    "conn.close()\n",
    "mydb.close()\n",
    "print(abg_imdb)"
   ]
  },
  {
   "cell_type": "code",
   "execution_count": 27,
   "id": "5d29ed32",
   "metadata": {},
   "outputs": [
    {
     "name": "stdout",
     "output_type": "stream",
     "text": [
      "\n"
     ]
    }
   ],
   "source": [
    "\"\"\"\n",
    "The movies list is coming from IMBD: API for IMDb, TMDb, Wikipedia and more - IMDb-API . \n",
    "How will you update the DB with the current top-250 list? \n",
    "You can use this apikey: k_fjjgi8pt \n",
    "Note that you can use it only during the exam time. Please do not use it elsewhere.\n",
    "\n",
    "q: Using the imdb-api, how you'll enrich the movie data with Actors and Genres?\n",
    "\n",
    "ans: pull json data; alter table films_db & create columns Actors and Genre; update entities\n",
    "\n",
    "q: Once your data is enriched with Actors, write a query on your data, to find the top-10 actors on your data.\n",
    "\n",
    "ans: SELECT actor,count(*) as \"count\" FROM \"actors that appear in each film\" group by actor order by \"count\";\n",
    "\"\"\"\n",
    "print()"
   ]
  },
  {
   "cell_type": "code",
   "execution_count": null,
   "id": "580e9fdd",
   "metadata": {},
   "outputs": [],
   "source": []
  }
 ],
 "metadata": {
  "kernelspec": {
   "display_name": "Python 3 (ipykernel)",
   "language": "python",
   "name": "python3"
  },
  "language_info": {
   "codemirror_mode": {
    "name": "ipython",
    "version": 3
   },
   "file_extension": ".py",
   "mimetype": "text/x-python",
   "name": "python",
   "nbconvert_exporter": "python",
   "pygments_lexer": "ipython3",
   "version": "3.10.7"
  }
 },
 "nbformat": 4,
 "nbformat_minor": 5
}
